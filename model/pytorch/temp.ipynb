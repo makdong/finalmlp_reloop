{
 "cells": [
  {
   "cell_type": "code",
   "execution_count": 1,
   "metadata": {},
   "outputs": [
    {
     "name": "stderr",
     "output_type": "stream",
     "text": [
      "C:\\Users\\user\\AppData\\Local\\Temp\\ipykernel_2864\\865982579.py:41: FutureWarning: A value is trying to be set on a copy of a DataFrame or Series through chained assignment using an inplace method.\n",
      "The behavior will change in pandas 3.0. This inplace method will never work because the intermediate object on which we are setting values always behaves as a copy.\n",
      "\n",
      "For example, when doing 'df[col].method(value, inplace=True)', try using 'df.method({col: value}, inplace=True)' or df[col] = df[col].method(value) instead, to perform the operation inplace on the original object.\n",
      "\n",
      "\n",
      "  train_data[col].fillna('no item', inplace=True)\n",
      "C:\\Users\\user\\AppData\\Local\\Temp\\ipykernel_2864\\865982579.py:42: FutureWarning: A value is trying to be set on a copy of a DataFrame or Series through chained assignment using an inplace method.\n",
      "The behavior will change in pandas 3.0. This inplace method will never work because the intermediate object on which we are setting values always behaves as a copy.\n",
      "\n",
      "For example, when doing 'df[col].method(value, inplace=True)', try using 'df.method({col: value}, inplace=True)' or df[col] = df[col].method(value) instead, to perform the operation inplace on the original object.\n",
      "\n",
      "\n",
      "  test_data[col].fillna('no item', inplace=True)\n"
     ]
    }
   ],
   "source": [
    "import torch\n",
    "from torch import nn\n",
    "from torch.nn import functional as F\n",
    "from tqdm import tqdm\n",
    "from sklearn.metrics import precision_score, recall_score\n",
    "import pandas as pd\n",
    "from sklearn.preprocessing import LabelEncoder, StandardScaler\n",
    "from sklearn.model_selection import train_test_split\n",
    "import torch.optim as optim\n",
    "from torch.utils.data import DataLoader, Dataset\n",
    "\n",
    "device = 'cuda:0' if torch.cuda.is_available() else 'cpu'\n",
    "\n",
    "class PandasDataset(Dataset):\n",
    "    def __init__(self, dataframe):\n",
    "        self.dataframe = dataframe\n",
    "        self.features = dataframe.drop(columns=['y']).values  # 입력 데이터\n",
    "        self.labels = dataframe['y'].values  # 레이블\n",
    "\n",
    "    def __len__(self):\n",
    "        return len(self.dataframe)\n",
    "\n",
    "    def __getitem__(self, idx):\n",
    "        # 특정 샘플의 feature와 label 반환\n",
    "        feature = torch.tensor(self.features[idx], dtype=torch.float32)\n",
    "        label = torch.tensor(self.labels[idx], dtype=torch.float32)\n",
    "        return feature, label\n",
    "\n",
    "# 데이터 불러오기\n",
    "train_data = pd.read_csv('train_B2C.csv')\n",
    "test_data = pd.read_csv('test_B2C.csv')\n",
    "\n",
    "# 필요 없는 열 제거\n",
    "train_data = train_data.drop(columns=['train/test', 'cust_id', 'base_dt'])\n",
    "test_data = test_data.drop(columns=['train/test', 'cust_id', 'base_dt'])\n",
    "\n",
    "# 결측치 처리\n",
    "rcnt_columns = ['rcnt_sub_0', 'rcnt_sub_1', 'rcnt_sub_2', 'rcnt_sub_3', 'rcnt_sub_4',\n",
    "                'rcnt_buy_0', 'rcnt_buy_1', 'rcnt_buy_2', 'rcnt_buy_3', 'rcnt_buy_4']\n",
    "for col in rcnt_columns:\n",
    "    train_data[col].fillna('no item', inplace=True)\n",
    "    test_data[col].fillna('no item', inplace=True)\n",
    "\n",
    "for column in train_data.columns:\n",
    "    if train_data[column].dtype == 'object':  # 문자열 데이터\n",
    "        train_data[column] = train_data[column].fillna('Unknown')\n",
    "    elif train_data[column].dtype in ['int64', 'float64']:  # 숫자 데이터\n",
    "        train_data[column] = train_data[column].fillna(train_data[column].mean())\n",
    "\n",
    "for column in test_data.columns:\n",
    "    if test_data[column].dtype == 'object':  # 문자열 데이터\n",
    "        test_data[column] = test_data[column].fillna('Unknown')\n",
    "    elif test_data[column].dtype in ['int64', 'float64']:  # 숫자 데이터\n",
    "        test_data[column] = test_data[column].fillna(test_data[column].mean())\n",
    "\n",
    "# 카테고리형 및 수치형 피처 구분\n",
    "categorical_features = [\n",
    "    'gendr_nm', 'gen_div_nm', 'ctdo_nm', 'empmbr_entr_yn', 'lge_mbr_entr_yn', 'mbsp_app_estb_yn', 'mbsp_entr_yn', 'pref_stlm_kd',\n",
    "    'thinq_entr_yn', 'new_prdc_pref_yn', 'orco_prdc_mny_buy_yn', 'orco_prdc_mny_hld_yn', 'hprop_clcn_voc_yn', 'lgebst_buy_hist_xstn_yn',\n",
    "    'buy_hist_xstn_yn', 'most_infw_domn_nm', 'age_group',\n",
    "    'rcnt_sub_0', 'rcnt_sub_1', 'rcnt_sub_2', 'rcnt_sub_3', 'rcnt_sub_4', \n",
    "    'rcnt_buy_0', 'rcnt_buy_1', 'rcnt_buy_2', 'rcnt_buy_3', 'rcnt_buy_4'\n",
    "]\n",
    "numeric_features = [\n",
    "    'orco_prdc_buy_cnt', 'orco_prdc_hld_cnt', 'totl_stay_tm_sum', \n",
    "    'totl_pvw_cont_sum', 'inpc_page_knd_cont_sum'\n",
    "]\n",
    "\n",
    "# # 카테고리형 변수 인코딩\n",
    "# for feat in categorical_features:\n",
    "#     lbe = LabelEncoder()\n",
    "#     train_data[feat] = lbe.fit_transform(train_data[feat])\n",
    "#     test_data[feat] = lbe.fit_transform(test_data[feat])\n",
    "\n",
    "# # 수치형 변수 스케일링\n",
    "# scaler = StandardScaler()\n",
    "# train_data[numeric_features] = scaler.fit_transform(train_data[numeric_features])\n",
    "# test_data[numeric_features] = scaler.fit_transform(test_data[numeric_features])\n",
    "\n",
    "# train_data, val_data = train_test_split(train_data, test_size=0.2)\n",
    "\n",
    "# # Dataset 객체 생성\n",
    "# train_dataset = PandasDataset(train_data)\n",
    "# val_dataset = PandasDataset(val_data)\n",
    "# test_dataset = PandasDataset(test_data)"
   ]
  },
  {
   "cell_type": "code",
   "execution_count": null,
   "metadata": {},
   "outputs": [
    {
     "name": "stdout",
     "output_type": "stream",
     "text": [
      "31 모든 아이템: {'두피관리기', '와인냉장고', '김치냉장고', '제습기', 'PC', 'TV', '스타일러', '프라엘', '안마의자', '세탁기', '홈브루', '냉동고', '공청기', '식물재배기', '슈케어', 'no item', '워시타워', '정수기냉장고', '전기레인지', '식세기', '공기청정기', '냉장고', '청소기', '건조기', '휴대폰', '정수기', 'RAC에어컨', '식기세척기', '에어컨', '노트북', '로봇청소기'}\n",
      "274618\n",
      "1722587\n"
     ]
    }
   ],
   "source": [
    "columns_of_interest = [\n",
    "    'rcnt_sub_0', 'rcnt_sub_1', 'rcnt_sub_2', 'rcnt_sub_3', 'rcnt_sub_4',\n",
    "    'rcnt_buy_0', 'rcnt_buy_1', 'rcnt_buy_2', 'rcnt_buy_3', 'rcnt_buy_4'\n",
    "]\n",
    "\n",
    "mask = train_data[columns_of_interest].apply(lambda row: row.isin(['PC', 'TV']).any(), axis=1)\n",
    "\n",
    "data_with_pc_tv = train_data[mask]\n",
    "data_without_pc_tv = train_data[~mask]\n",
    "\n",
    "print(len(data_with_pc_tv))\n",
    "print(len(data_without_pc_tv))"
   ]
  }
 ],
 "metadata": {
  "kernelspec": {
   "display_name": "bigtech",
   "language": "python",
   "name": "python3"
  },
  "language_info": {
   "codemirror_mode": {
    "name": "ipython",
    "version": 3
   },
   "file_extension": ".py",
   "mimetype": "text/x-python",
   "name": "python",
   "nbconvert_exporter": "python",
   "pygments_lexer": "ipython3",
   "version": "3.9.20"
  }
 },
 "nbformat": 4,
 "nbformat_minor": 2
}
